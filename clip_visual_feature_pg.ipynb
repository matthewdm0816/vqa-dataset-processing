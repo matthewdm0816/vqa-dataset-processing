{
 "cells": [
  {
   "cell_type": "code",
   "execution_count": 3,
   "metadata": {},
   "outputs": [],
   "source": [
    "import torch, clip\n",
    "import numpy as np\n",
    "from icecream import ic\n",
    "ic.configureOutput(outputFunction=print)"
   ]
  },
  {
   "cell_type": "code",
   "execution_count": 8,
   "metadata": {},
   "outputs": [
    {
     "name": "stdout",
     "output_type": "stream",
     "text": [
      "ic| clip.available_models(): ['RN50', 'RN101', 'RN50x4', 'RN50x16', 'ViT-B/32', 'ViT-B/16']\n"
     ]
    }
   ],
   "source": [
    "ic(clip.available_models())\n",
    "device=torch.device('cuda:3')"
   ]
  },
  {
   "cell_type": "code",
   "execution_count": 9,
   "metadata": {},
   "outputs": [
    {
     "name": "stderr",
     "output_type": "stream",
     "text": [
      "100%|███████████████████████████████████████| 630M/630M [08:23<00:00, 1.31MiB/s]\n"
     ]
    }
   ],
   "source": [
    "model, preprocess = clip.load(\"RN50x16\", device=device)"
   ]
  },
  {
   "cell_type": "code",
   "execution_count": null,
   "metadata": {},
   "outputs": [],
   "source": []
  }
 ],
 "metadata": {
  "interpreter": {
   "hash": "60aee0565937302cf0eb01f8c2c3ecd6548e281b6c48c0bb0e459ec70e5a7a30"
  },
  "kernelspec": {
   "display_name": "Python 3.9.0 64-bit ('k2': conda)",
   "name": "python3"
  },
  "language_info": {
   "codemirror_mode": {
    "name": "ipython",
    "version": 3
   },
   "file_extension": ".py",
   "mimetype": "text/x-python",
   "name": "python",
   "nbconvert_exporter": "python",
   "pygments_lexer": "ipython3",
   "version": "3.9.0"
  },
  "orig_nbformat": 4
 },
 "nbformat": 4,
 "nbformat_minor": 2
}