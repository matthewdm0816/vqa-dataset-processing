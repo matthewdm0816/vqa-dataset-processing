{
 "cells": [
  {
   "cell_type": "code",
   "execution_count": 2,
   "metadata": {},
   "outputs": [],
   "source": [
    "import ast\n",
    "import base64\n",
    "import csv\n",
    "import enum\n",
    "import glob\n",
    "import json\n",
    "import logging\n",
    "import os\n",
    "import os.path as osp\n",
    "import pickle\n",
    "import sys\n",
    "from collections import defaultdict\n",
    "\n",
    "import colorama\n",
    "import datasets\n",
    "import numpy as np\n",
    "import pandas as pd\n",
    "import toml\n",
    "import torch\n",
    "import transformers\n",
    "from datasets import Dataset, load_dataset\n",
    "from icecream import ic\n",
    "from tqdm import *\n",
    "from tqdm.auto import tqdm\n",
    "import argparse"
   ]
  },
  {
   "cell_type": "code",
   "execution_count": 19,
   "metadata": {},
   "outputs": [],
   "source": [
    "feature_path = \"/home/yangliu/data/vinvl/model_0060000/coco2014test\"\n",
    "tsv_path = osp.expanduser(f\"{feature_path}/features.tsv\")\n",
    "pred_path = osp.expanduser(f\"{feature_path}/predictions.tsv\")\n",
    "lidx_path = osp.expanduser(f\"{feature_path}/features.lineidx\")\n",
    "imgid2idx_path = osp.expanduser(f\"{feature_path}/imageid2idx.json\")"
   ]
  },
  {
   "cell_type": "code",
   "execution_count": 29,
   "metadata": {},
   "outputs": [],
   "source": [
    "def transform_dict(d: dict) -> dict:\n",
    "    keys = d.items()[0].keys()\n",
    "    ic(keys)\n",
    "    d_new = defaultdict(list)\n",
    "    for k, vdict in d.items(): \n",
    "        for k_, v in vdict:\n",
    "            d_new[k_].append(v)\n",
    "    return d_new\n",
    "\n",
    "def _getid(image_path):\n",
    "    r\"\"\"\n",
    "    \"VizWiz-werwerwer-0001123.jpg\" => 1123\n",
    "    \"COCO_train2014_00000000123123.jpg\" => 123123\n",
    "    \"\"\"\n",
    "    filename = os.path.basename(image_path)\n",
    "    image_id = filename.split(\"_\")[-1]\n",
    "    image_id = image_id.split(\".\")[0]\n",
    "    return int(image_id)"
   ]
  },
  {
   "cell_type": "code",
   "execution_count": 21,
   "metadata": {},
   "outputs": [
    {
     "name": "stderr",
     "output_type": "stream",
     "text": [
      "ic| total_lines: 40775\n"
     ]
    }
   ],
   "source": [
    "with open(imgid2idx_path, \"rt\") as f:\n",
    "    imgid2idx = json.load(f)\n",
    "    total_lines = max([idx for imgid, idx in imgid2idx.items()]) + 1\n",
    "    ic(total_lines)"
   ]
  },
  {
   "cell_type": "code",
   "execution_count": 30,
   "metadata": {},
   "outputs": [
    {
     "data": {
      "application/vnd.jupyter.widget-view+json": {
       "model_id": "db58e7dc124b4283a5c26d4ca0773170",
       "version_major": 2,
       "version_minor": 0
      },
      "text/plain": [
       "  0%|          | 0/40775 [00:00<?, ?it/s]"
      ]
     },
     "metadata": {},
     "output_type": "display_data"
    },
    {
     "name": "stderr",
     "output_type": "stream",
     "text": [
      "ic| image_id: 1, num_boxes: 38, decoded.shape: (38, 2054)\n"
     ]
    }
   ],
   "source": [
    "record_features = dict()\n",
    "with open(tsv_path) as tsvfile:\n",
    "    tsvreader = csv.reader(tsvfile, delimiter=\"\\t\")\n",
    "    for line in tqdm(tsvreader, total=total_lines):\n",
    "        image_id, num_boxes, feature_enc = line[0], int(line[1]), line[-1]\n",
    "        try:\n",
    "            image_id = int(image_id)\n",
    "        except ValueError:\n",
    "            # not int but image name\n",
    "            image_id = _getid(image_id)\n",
    "        decoded = np.frombuffer(base64.b64decode(feature_enc), np.float32).reshape(\n",
    "            num_boxes, -1\n",
    "        )\n",
    "        ic(image_id, num_boxes, decoded.shape)\n",
    "        record_features[image_id] = decoded\n",
    "        break"
   ]
  },
  {
   "cell_type": "code",
   "execution_count": null,
   "metadata": {},
   "outputs": [],
   "source": []
  }
 ],
 "metadata": {
  "interpreter": {
   "hash": "c5d7ced4f0a19417fa1f94d567281498fddc29bd06ebe3a664ce0f8fe93f64fa"
  },
  "kernelspec": {
   "display_name": "Python 3.9.0 64-bit ('k4': conda)",
   "language": "python",
   "name": "python3"
  },
  "language_info": {
   "codemirror_mode": {
    "name": "ipython",
    "version": 3
   },
   "file_extension": ".py",
   "mimetype": "text/x-python",
   "name": "python",
   "nbconvert_exporter": "python",
   "pygments_lexer": "ipython3",
   "version": "3.9.0"
  },
  "orig_nbformat": 4
 },
 "nbformat": 4,
 "nbformat_minor": 2
}
