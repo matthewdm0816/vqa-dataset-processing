{
 "cells": [
  {
   "cell_type": "code",
   "execution_count": 1,
   "id": "93d128d5",
   "metadata": {},
   "outputs": [],
   "source": [
    "import torch, datasets, transformers\n",
    "import numpy as np"
   ]
  },
  {
   "cell_type": "code",
   "execution_count": 2,
   "id": "c7b4f061",
   "metadata": {},
   "outputs": [],
   "source": [
    "dataset = datasets.load_from_disk(\"clip_feature\")"
   ]
  },
  {
   "cell_type": "code",
   "execution_count": 3,
   "id": "0aca9bc9",
   "metadata": {},
   "outputs": [
    {
     "data": {
      "text/plain": [
       "Dataset({\n",
       "    features: ['image_id', 'feature', 'grid_feature'],\n",
       "    num_rows: 204721\n",
       "})"
      ]
     },
     "execution_count": 3,
     "metadata": {},
     "output_type": "execute_result"
    }
   ],
   "source": [
    "dataset"
   ]
  },
  {
   "cell_type": "code",
   "execution_count": 4,
   "id": "118542cc",
   "metadata": {},
   "outputs": [],
   "source": [
    "dataset_featonly = dataset.remove_columns('grid_feature')"
   ]
  },
  {
   "cell_type": "code",
   "execution_count": 5,
   "id": "1e2d6e7b",
   "metadata": {},
   "outputs": [
    {
     "data": {
      "text/plain": [
       "Dataset({\n",
       "    features: ['image_id', 'feature'],\n",
       "    num_rows: 204721\n",
       "})"
      ]
     },
     "execution_count": 5,
     "metadata": {},
     "output_type": "execute_result"
    }
   ],
   "source": [
    "dataset_featonly"
   ]
  },
  {
   "cell_type": "code",
   "execution_count": 6,
   "id": "a5a13ddb",
   "metadata": {},
   "outputs": [],
   "source": [
    "dataset_featonly.save_to_disk('clip_feature_featonly')"
   ]
  },
  {
   "cell_type": "code",
   "execution_count": null,
   "id": "e8ce3272",
   "metadata": {},
   "outputs": [],
   "source": []
  }
 ],
 "metadata": {
  "kernelspec": {
   "display_name": "Python 3",
   "language": "python",
   "name": "python3"
  },
  "language_info": {
   "codemirror_mode": {
    "name": "ipython",
    "version": 3
   },
   "file_extension": ".py",
   "mimetype": "text/x-python",
   "name": "python",
   "nbconvert_exporter": "python",
   "pygments_lexer": "ipython3",
   "version": "3.9.0"
  }
 },
 "nbformat": 4,
 "nbformat_minor": 5
}
